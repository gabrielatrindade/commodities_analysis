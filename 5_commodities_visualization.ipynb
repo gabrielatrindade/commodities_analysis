{
 "cells": [
  {
   "cell_type": "markdown",
   "metadata": {},
   "source": [
    "# Table of Contents\n",
    "\n",
    "1. [Importing Libraries](#1.-Importing-Libraries)\n",
    "2. [Getting the data](#2.-Getting-the-data)\n",
    "3. [Config and Functions](#3.-Config-and-Functions) \\\n",
    "    3.1 [Config](#3.1-Config) \\\n",
    "    3.2 [Functions](#3.2-Functions)\n",
    "4. [Visualization](#4.-Visualization) \\\n",
    "    4.1 [Largest producers / consumer per commodity](#Largest-producers-/-consumer-per-commodity) \\\n",
    "    4.2 [Balance between production and consumption in respective origin countries]() \\\n",
    "    4.3 [Stock level balance throughout the years]()"
   ]
  },
  {
   "cell_type": "markdown",
   "metadata": {},
   "source": [
    "# 1. Importing Libraries"
   ]
  },
  {
   "cell_type": "code",
   "execution_count": 1,
   "metadata": {},
   "outputs": [],
   "source": [
    "import pandas as pd\n",
    "import numpy as np\n",
    "\n",
    "import seaborn as sns\n",
    "import matplotlib.pyplot as plt"
   ]
  },
  {
   "cell_type": "markdown",
   "metadata": {},
   "source": [
    "# 2. Getting the data"
   ]
  },
  {
   "cell_type": "code",
   "execution_count": 2,
   "metadata": {},
   "outputs": [],
   "source": [
    "# commodities_link = 'https://apps.fas.usda.gov/psdonline/downloads/psd_alldata_csv.zip'\n",
    "commodities_file = 'data/psd_alldata_csv.zip'\n",
    "\n",
    "all_commodities = pd.read_csv(commodities_file, \n",
    "                              compression='zip',\n",
    "                              keep_default_na=False)"
   ]
  },
  {
   "cell_type": "code",
   "execution_count": 3,
   "metadata": {},
   "outputs": [],
   "source": [
    "commodities_to_explore = \\\n",
    "    ['Grapefruit, Fresh',\n",
    "     'Lemons/Limes, Fresh',\n",
    "     'Oranges, Fresh',\n",
    "     'Tangerines/Mandarins, Fresh',\n",
    "     'Coffee, Green']\n",
    "\n",
    "commodities = (all_commodities\n",
    "                   [all_commodities.Commodity_Description.isin(commodities_to_explore)]\n",
    "                   .copy()\n",
    "                   .reset_index())"
   ]
  },
  {
   "cell_type": "markdown",
   "metadata": {},
   "source": [
    "# 3. Config and Functions \n",
    "\n",
    "## 3.1 Config"
   ]
  },
  {
   "cell_type": "code",
   "execution_count": 5,
   "metadata": {},
   "outputs": [],
   "source": [
    "# dataframe style\n",
    "heading_properties = [('font-size', '16px')]\n",
    "cell_properties = [('font-size', '15px')]\n",
    "dfstyle = [dict(selector=\"th\", props=heading_properties),\n",
    "           dict(selector=\"td\", props=cell_properties)]\n"
   ]
  },
  {
   "cell_type": "markdown",
   "metadata": {},
   "source": [
    "## 3.2 Functions"
   ]
  },
  {
   "cell_type": "code",
   "execution_count": 55,
   "metadata": {},
   "outputs": [],
   "source": [
    "# manipulation\n",
    "\n",
    "def filter_by_values(df: pd.DataFrame, column: str, values: list):\n",
    "    \n",
    "    return df[df[column].isin(values)].copy()\n",
    "\n",
    "\n",
    "def groupby_and_sum_values(df: pd.DataFrame, group: list):\n",
    "    \n",
    "    return df.groupby(group).sum('Value')[['Value']]\n",
    "\n",
    "\n",
    "def get_top_countries_per_commodity(df_attr: pd.DataFrame, column_title: str):\n",
    "\n",
    "    commodities_sum_value_per_country = \\\n",
    "        groupby_and_sum_values(df_attr, ['Commodity_Description', 'Country_Name'])\n",
    "\n",
    "    commodities_max_values = \\\n",
    "        commodities_sum_value_per_country.groupby(['Commodity_Description']).max()#idxmax()\n",
    "\n",
    "    return (commodities_max_values\n",
    "                .merge(commodities_sum_value_per_country.reset_index())\n",
    "                .rename(columns={'Commodity_Description': 'Commodity',\n",
    "                                 'Country_Name': column_title})\n",
    "                .sort_values(column_title))"
   ]
  },
  {
   "cell_type": "code",
   "execution_count": 45,
   "metadata": {},
   "outputs": [],
   "source": [
    "#visualization\n",
    "\n",
    "def stylize_df_top_country_per_commodity(df: pd.DataFrame, highlight_columns: list):\n",
    "    \n",
    "    return (df#.drop('Value', axis=1)\n",
    "              .style\n",
    "                  .set_table_styles(dfstyle)\n",
    "                  .set_properties(**{'background-color': '#ffffb3', \n",
    "                                     'text-align': 'left'}, \n",
    "                                  subset=highlight_columns)\n",
    "              .hide_index())"
   ]
  },
  {
   "cell_type": "markdown",
   "metadata": {},
   "source": [
    "# 4. Visualization\n",
    "\n",
    "## 4.1 Largest producers / consumer per commodity\n",
    "\n",
    "##### Largest Producers per Commodity"
   ]
  },
  {
   "cell_type": "code",
   "execution_count": 56,
   "metadata": {},
   "outputs": [],
   "source": [
    "commodities_production = \\\n",
    "    filter_by_values(df=commodities, \n",
    "                     column='Attribute_Description', \n",
    "                     values=['Production'])\n",
    "\n",
    "# commodities_production.head()"
   ]
  },
  {
   "cell_type": "markdown",
   "metadata": {},
   "source": [
    "- checking if each commodity has only one type of unit. In this way we can sum or compare countries more fairly:"
   ]
  },
  {
   "cell_type": "code",
   "execution_count": 57,
   "metadata": {},
   "outputs": [
    {
     "data": {
      "text/plain": [
       "Commodity_Description\n",
       "Coffee, Green                  [(1000 60 KG BAGS)]\n",
       "Grapefruit, Fresh                      [(1000 MT)]\n",
       "Lemons/Limes, Fresh                    [(1000 MT)]\n",
       "Oranges, Fresh                         [(1000 MT)]\n",
       "Tangerines/Mandarins, Fresh            [(1000 MT)]\n",
       "Name: Unit_Description, dtype: object"
      ]
     },
     "execution_count": 57,
     "metadata": {},
     "output_type": "execute_result"
    }
   ],
   "source": [
    "commodities.groupby('Commodity_Description')['Unit_Description'].unique()"
   ]
  },
  {
   "cell_type": "code",
   "execution_count": 58,
   "metadata": {},
   "outputs": [],
   "source": [
    "largest_producers_per_commodity = \\\n",
    "    get_top_countries_per_commodity(commodities_production, \n",
    "                                    'Largest Producer')\n",
    "\n",
    "# largest_producers_per_commodity"
   ]
  },
  {
   "cell_type": "markdown",
   "metadata": {},
   "source": [
    "##### Largest Consumer per Commodity"
   ]
  },
  {
   "cell_type": "code",
   "execution_count": 62,
   "metadata": {},
   "outputs": [],
   "source": [
    "commodities_consumption = \\\n",
    "    filter_by_values(df=commodities, \n",
    "                     column='Attribute_Description',\n",
    "                     values=['Domestic Consumption', 'Fresh Dom. Consumption'])\n",
    "\n",
    "# commodities_consumption.head()"
   ]
  },
  {
   "cell_type": "code",
   "execution_count": 60,
   "metadata": {},
   "outputs": [],
   "source": [
    "largest_consumers_per_commodity = \\\n",
    "    get_top_countries_per_commodity(commodities_consumption, \n",
    "                                    'Largest Consumer')\n",
    "\n",
    "# largest_consumers_per_commodity"
   ]
  },
  {
   "cell_type": "markdown",
   "metadata": {},
   "source": [
    "##### Largest producers / consumer per commodity"
   ]
  },
  {
   "cell_type": "code",
   "execution_count": 61,
   "metadata": {},
   "outputs": [
    {
     "data": {
      "text/html": [
       "<style  type=\"text/css\" >\n",
       "    #T_c1259296_e6ee_11eb_9eae_a402b903a8a4 th {\n",
       "          font-size: 16px;\n",
       "    }    #T_c1259296_e6ee_11eb_9eae_a402b903a8a4 td {\n",
       "          font-size: 15px;\n",
       "    }#T_c1259296_e6ee_11eb_9eae_a402b903a8a4row0_col1,#T_c1259296_e6ee_11eb_9eae_a402b903a8a4row0_col2,#T_c1259296_e6ee_11eb_9eae_a402b903a8a4row1_col1,#T_c1259296_e6ee_11eb_9eae_a402b903a8a4row1_col2,#T_c1259296_e6ee_11eb_9eae_a402b903a8a4row2_col1,#T_c1259296_e6ee_11eb_9eae_a402b903a8a4row2_col2,#T_c1259296_e6ee_11eb_9eae_a402b903a8a4row3_col1,#T_c1259296_e6ee_11eb_9eae_a402b903a8a4row3_col2,#T_c1259296_e6ee_11eb_9eae_a402b903a8a4row4_col1,#T_c1259296_e6ee_11eb_9eae_a402b903a8a4row4_col2{\n",
       "            background-color:  #ffffb3;\n",
       "            text-align:  left;\n",
       "        }</style><table id=\"T_c1259296_e6ee_11eb_9eae_a402b903a8a4\" ><thead>    <tr>        <th class=\"col_heading level0 col0\" >Commodity</th>        <th class=\"col_heading level0 col1\" >Largest Producer</th>        <th class=\"col_heading level0 col2\" >Largest Consumer</th>    </tr></thead><tbody>\n",
       "                <tr>\n",
       "                                <td id=\"T_c1259296_e6ee_11eb_9eae_a402b903a8a4row0_col0\" class=\"data row0 col0\" >Coffee, Green</td>\n",
       "                        <td id=\"T_c1259296_e6ee_11eb_9eae_a402b903a8a4row0_col1\" class=\"data row0 col1\" >Brazil</td>\n",
       "                        <td id=\"T_c1259296_e6ee_11eb_9eae_a402b903a8a4row0_col2\" class=\"data row0 col2\" >European Union</td>\n",
       "            </tr>\n",
       "            <tr>\n",
       "                                <td id=\"T_c1259296_e6ee_11eb_9eae_a402b903a8a4row1_col0\" class=\"data row1 col0\" >Oranges, Fresh</td>\n",
       "                        <td id=\"T_c1259296_e6ee_11eb_9eae_a402b903a8a4row1_col1\" class=\"data row1 col1\" >Brazil</td>\n",
       "                        <td id=\"T_c1259296_e6ee_11eb_9eae_a402b903a8a4row1_col2\" class=\"data row1 col2\" >Brazil</td>\n",
       "            </tr>\n",
       "            <tr>\n",
       "                                <td id=\"T_c1259296_e6ee_11eb_9eae_a402b903a8a4row2_col0\" class=\"data row2 col0\" >Tangerines/Mandarins, Fresh</td>\n",
       "                        <td id=\"T_c1259296_e6ee_11eb_9eae_a402b903a8a4row2_col1\" class=\"data row2 col1\" >China</td>\n",
       "                        <td id=\"T_c1259296_e6ee_11eb_9eae_a402b903a8a4row2_col2\" class=\"data row2 col2\" >China</td>\n",
       "            </tr>\n",
       "            <tr>\n",
       "                                <td id=\"T_c1259296_e6ee_11eb_9eae_a402b903a8a4row3_col0\" class=\"data row3 col0\" >Lemons/Limes, Fresh</td>\n",
       "                        <td id=\"T_c1259296_e6ee_11eb_9eae_a402b903a8a4row3_col1\" class=\"data row3 col1\" >Mexico</td>\n",
       "                        <td id=\"T_c1259296_e6ee_11eb_9eae_a402b903a8a4row3_col2\" class=\"data row3 col2\" >European Union</td>\n",
       "            </tr>\n",
       "            <tr>\n",
       "                                <td id=\"T_c1259296_e6ee_11eb_9eae_a402b903a8a4row4_col0\" class=\"data row4 col0\" >Grapefruit, Fresh</td>\n",
       "                        <td id=\"T_c1259296_e6ee_11eb_9eae_a402b903a8a4row4_col1\" class=\"data row4 col1\" >United States</td>\n",
       "                        <td id=\"T_c1259296_e6ee_11eb_9eae_a402b903a8a4row4_col2\" class=\"data row4 col2\" >China</td>\n",
       "            </tr>\n",
       "    </tbody></table>"
      ],
      "text/plain": [
       "<pandas.io.formats.style.Styler at 0x7f9835f87198>"
      ]
     },
     "execution_count": 61,
     "metadata": {},
     "output_type": "execute_result"
    }
   ],
   "source": [
    "largest_consumers_producers_per_commodity = \\\n",
    "    (largest_producers_per_commodity.drop('Value', axis=1)\n",
    "         .merge(largest_consumers_per_commodity.drop('Value', axis=1), \n",
    "                on='Commodity'))\n",
    "\n",
    "stylize_df_top_country_per_commodity(largest_consumers_producers_per_commodity,\n",
    "                                     ['Largest Producer', 'Largest Consumer'])"
   ]
  },
  {
   "cell_type": "markdown",
   "metadata": {},
   "source": [
    "## 4.2  Balance between production and consumption in respective origin countries"
   ]
  },
  {
   "cell_type": "code",
   "execution_count": null,
   "metadata": {},
   "outputs": [],
   "source": []
  },
  {
   "cell_type": "markdown",
   "metadata": {},
   "source": [
    "## 4.3 Stock level balance throughout the years"
   ]
  },
  {
   "cell_type": "code",
   "execution_count": null,
   "metadata": {},
   "outputs": [],
   "source": []
  }
 ],
 "metadata": {
  "kernelspec": {
   "display_name": "Python 3",
   "language": "python",
   "name": "python3"
  },
  "language_info": {
   "codemirror_mode": {
    "name": "ipython",
    "version": 3
   },
   "file_extension": ".py",
   "mimetype": "text/x-python",
   "name": "python",
   "nbconvert_exporter": "python",
   "pygments_lexer": "ipython3",
   "version": "3.6.9"
  }
 },
 "nbformat": 4,
 "nbformat_minor": 4
}
